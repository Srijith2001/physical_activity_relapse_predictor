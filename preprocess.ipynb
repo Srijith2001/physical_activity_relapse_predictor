{
 "cells": [
  {
   "cell_type": "code",
   "execution_count": null,
   "metadata": {},
   "outputs": [],
   "source": [
    "import pandas as pd\n",
    "nt = pd.read_csv(\"initial_table.csv\", index_col=0)\n",
    "\n",
    "final = pd.DataFrame({'Initial Steps':[],'Average Steps':[], 'Last Week Steps':[], 'Week Number':[],'DiPS':[]})\n",
    "t_int = 0\n",
    "t_lws = 0\n",
    "t_avg = 0\n",
    "t_dno = 0\n",
    "t_dips = -1\n",
    "for index in nt.index:\n",
    "    for col in nt.columns:\n",
    "        if(col=='Week 1'):\n",
    "            t_int = nt.at[index,col]\n",
    "        elif(col=='Week 44'):\n",
    "            continue\n",
    "        else:\n",
    "#             if(col=='Week 5'):\n",
    "#                 t_int /=4\n",
    "            t_lws = nt.at[index,col]\n",
    "            t_avg = abs((int(t_int) + t_lws)/2)\n",
    "            t_dno = int(col[5:])\n",
    "            if(nt.at[index,'Week '+str((int(col[5:])+1))]>t_int):\n",
    "                t_dips = 1\n",
    "            else:\n",
    "                t_dips = 0\n",
    "            final = final.append({'Initial Steps':int(t_int),'Average Steps':t_avg, 'Last Week Steps':t_lws,'Week Number':t_dno,'DiPS': t_dips}, ignore_index=True)\n",
    "\n",
    "final.drop_duplicates()\n",
    "final"
   ]
  },
  {
   "cell_type": "code",
   "execution_count": null,
   "metadata": {},
   "outputs": [],
   "source": [
    "final.to_csv('t_dataset.csv')"
   ]
  },
  {
   "cell_type": "code",
   "execution_count": null,
   "metadata": {},
   "outputs": [],
   "source": [
    "s = []\n",
    "for index in nt.index:\n",
    "    if(index=='1005'):\n",
    "        for col in nt.columns:\n",
    "            s.append(nt.at[index,col])"
   ]
  },
  {
   "cell_type": "code",
   "execution_count": null,
   "metadata": {},
   "outputs": [],
   "source": [
    "x = [i for i in range(1,45)]"
   ]
  },
  {
   "cell_type": "code",
   "execution_count": null,
   "metadata": {
    "scrolled": true
   },
   "outputs": [],
   "source": [
    "import matplotlib.pyplot as plt\n",
    "plt.scatter(x,s)"
   ]
  },
  {
   "cell_type": "code",
   "execution_count": null,
   "metadata": {},
   "outputs": [],
   "source": []
  }
 ],
 "metadata": {
  "kernelspec": {
   "name": "python3",
   "display_name": "Python 3.8.6 64-bit"
  },
  "language_info": {
   "codemirror_mode": {
    "name": "ipython",
    "version": 3
   },
   "file_extension": ".py",
   "mimetype": "text/x-python",
   "name": "python",
   "nbconvert_exporter": "python",
   "pygments_lexer": "ipython3",
   "version": "3.8.6"
  },
  "interpreter": {
   "hash": "1baa965d5efe3ac65b79dfc60c0d706280b1da80fedb7760faf2759126c4f253"
  }
 },
 "nbformat": 4,
 "nbformat_minor": 4
}